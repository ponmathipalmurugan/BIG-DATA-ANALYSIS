{
 "cells": [
  {
   "cell_type": "code",
   "execution_count": null,
   "metadata": {},
   "outputs": [],
   "source": [
    "# Importing required functions for data manipulation\n",
    "from pyspark.sql.functions import col, count, udf, when, sum, round\n",
    "from pyspark.sql.types import StringType"
   ]
  },
  {
   "cell_type": "code",
   "execution_count": null,
   "metadata": {},
   "outputs": [],
   "source": [
    "matches_df=spark.read.csv(\"/FileStore/tables/matches.csv\",header='true', inferSchema='true')\n",
    "deliveries_df=spark.read.csv(\"/FileStore/tables/deliveries.csv\",header='true', inferSchema='true')\n",
    "auction_df=spark.read.csv(\"/FileStore/tables/ipl_2025_auction_players.csv\",header='true', inferSchema='true')\n",
    "     \n",
    "     \n",
    "     "
   ]
  },
  {
   "cell_type": "code",
   "execution_count": null,
   "metadata": {},
   "outputs": [],
   "source": [
    "# Group by batter and compute batting statistics\n",
    "batsman_stats_df = deliveries_df.groupBy(\"batter\").agg(\n",
    "    count(\"*\").alias(\"balls_faced\"),  # Count the number of balls faced\n",
    "    sum(col(\"batsman_runs\")).alias(\"total_runs\"),  # Sum the total runs scored\n",
    "    sum((col(\"batsman_runs\") == 4).cast(\"int\")).alias(\"fours\"),  # Count the number of fours\n",
    "    sum((col(\"batsman_runs\") == 6).cast(\"int\")).alias(\"sixes\")  # Count the number of sixes\n",
    ").withColumn(\n",
    "    \"strike_rate\", round((col(\"total_runs\") * 100 / col(\"balls_faced\")), 2)  # Calculate strike rate\n",
    ").withColumn(\n",
    "    \"boundaries\", col(\"fours\") + col(\"sixes\")  # Calculate total boundaries (fours + sixes)\n",
    ").filter(\n",
    "    col(\"balls_faced\") > 50  # Filter out batters who faced more than 50 balls\n",
    ").orderBy(\"strike_rate\", ascending=False)  # Order by strike rate in descending order"
   ]
  },
  {
   "cell_type": "code",
   "execution_count": null,
   "metadata": {},
   "outputs": [],
   "source": [
    "# Filter out valid wickets (excluding run outs)\n",
    "valid_wickets_df = deliveries_df.filter(\n",
    "    (col(\"is_wicket\") == 1) & (col(\"dismissal_kind\") != \"run out\")\n",
    ")\n",
    "\n",
    "# Group by bowler and count the number of wickets\n",
    "bowler_wickets_df = valid_wickets_df.groupBy(\"bowler\").agg(count(\"*\").alias(\"wickets\")).orderBy(col(\"wickets\").desc())\n",
    "bowler_wickets_df = bowler_wickets_df.withColumn(\n",
    "    \"bowler\",\n",
    "    when(col(\"bowler\") == \"A Singh\", \"Amit Singh\").otherwise(col(\"bowler\"))\n",
    ")"
   ]
  },
  {
   "cell_type": "code",
   "execution_count": null,
   "metadata": {},
   "outputs": [],
   "source": [
    "# Filter out valid wickets (excluding run outs)\n",
    "valid_wickets_df = deliveries_df.filter(\n",
    "    (col(\"is_wicket\") == 1) & (col(\"dismissal_kind\") != \"run out\")\n",
    ")\n",
    "\n",
    "# Compute total runs conceded per bowler\n",
    "bowler_stats_df = deliveries_df.groupBy(\"bowler\").agg(\n",
    "    count(when((col(\"is_wicket\") == 1) & (col(\"dismissal_kind\") != \"run out\"), 1)).alias(\"wickets\"),\n",
    "    sum(col(\"total_runs\")).alias(\"runs_conceded\"),\n",
    "    count(when(col(\"ball\") == 6, 1)).alias(\"overs_bowled\")  # Count number of completed overs\n",
    ")\n",
    "\n",
    "# Calculate Economy Rate: runs conceded per over\n",
    "bowler_stats_df = bowler_stats_df.withColumn(\n",
    "    \"economy_rate\", round(col(\"runs_conceded\") / (col(\"overs_bowled\") + 0.1), 2)  # Avoid division by zero\n",
    ").withColumn(\n",
    "    \"bowler\", when(col(\"bowler\") == \"A Singh\", \"Amit Singh\").otherwise(col(\"bowler\"))\n",
    ").orderBy(col(\"wickets\").desc())\n",
    "\n"
   ]
  },
  {
   "cell_type": "code",
   "execution_count": null,
   "metadata": {},
   "outputs": [],
   "source": [
    "# UDF to check if the first name is all uppercase\n",
    "def is_all_caps(name):\n",
    "    return name.isupper()  # Check if it's all uppercase\n",
    "\n",
    "# Define UDF to format names correctly\n",
    "def format_name(full_name):\n",
    "    parts = full_name.split()\n",
    "    if is_all_caps(parts[0]):\n",
    "        return f\"{parts[0][0]} {parts[-1]}\"  # Keep only first initial + last name\n",
    "    return full_name  # If there's only one word, return as is\n",
    "\n",
    "format_name_udf = udf(format_name, StringType())\n",
    "\n",
    "# Apply the transformation\n",
    "batsman_stats_final_df = batsman_stats_df.withColumn(\"player\", format_name_udf(col(\"batter\")))\n",
    "\n",
    "bowler_wickets_final_df = bowler_stats_df.withColumn(\"player\", format_name_udf(col(\"bowler\")))\n"
   ]
  },
  {
   "cell_type": "code",
   "execution_count": null,
   "metadata": {},
   "outputs": [],
   "source": [
    "unsold_players = auction_df.filter(col(\"Sold\") == \"Unsold\").dropDuplicates()"
   ]
  },
  {
   "cell_type": "code",
   "execution_count": null,
   "metadata": {},
   "outputs": [],
   "source": [
    "# Define a UDF to convert full names to initial-based names\n",
    "def convert_to_initials(full_name):\n",
    "    parts = full_name.split()\n",
    "    if len(parts) > 1:\n",
    "        return f\"{parts[0][0]} {parts[1]}\"  # e.g., \"Travis Head\" → \"TM Head\"\n",
    "    return full_name  # If there's only one name, keep it unchanged\n",
    "\n",
    "convert_to_initials_udf = udf(convert_to_initials, StringType())\n",
    "\n",
    "# Apply transformation to create a new column with formatted names\n",
    "unsold_players_df = unsold_players.withColumn(\"player\", convert_to_initials_udf(col(\"Players\")))"
   ]
  },
  {
   "cell_type": "code",
   "execution_count": null,
   "metadata": {},
   "outputs": [],
   "source": [
    "# Join the unsold players with the batsman stats on the transformed name\n",
    "unsold_batsmen_stats_df = unsold_players_df.join(\n",
    "    batsman_stats_final_df, on=\"player\"\n",
    ").select(\"Players\", \"total_runs\", \"balls_faced\", \"strike_rate\", \"boundaries\")\n",
    "\n",
    "# Show the final output\n",
    "display(unsold_batsmen_stats_df.orderBy(\"strike_rate\", ascending=False).limit(10))\n"
   ]
  },
  {
   "cell_type": "code",
   "execution_count": null,
   "metadata": {},
   "outputs": [],
   "source": [
    "Players\t     total_runs\t  balls_faced\tstrike_rate\t  boundaries\n",
    "Shai Hope\t    183\t        125\t        146.4\t        24\n",
    "Prithvi Shaw\t1892\t    1321\t    143.22\t        299\n",
    "Jonny Bairstow\t1589\t    1132\t    140.37\t        235\n",
    "Kyle Mayers\t    379\t        276\t        137.32\t        60\n",
    "David Warner\t6567\t    4849\t    135.43\t        899\n",
    "Shardul Thakur\t307\t        228\t        134.65\t        40\n",
    "Dewald Brevis\t230\t        176\t        130.68\t        33\n",
    "Sarfaraz Khan\t585\t        456\t        128.29\t        77\n",
    "Daryl Mitchell\t351\t        274\t        128.1\t        38\n",
    "Steven Smith\t2495\t    1999\t    124.81\t        286\n"
   ]
  },
  {
   "cell_type": "code",
   "execution_count": null,
   "metadata": {},
   "outputs": [],
   "source": [
    "display(unsold_batsmen_stats_df.orderBy(\"boundaries\", ascending=False).limit(10))"
   ]
  },
  {
   "cell_type": "code",
   "execution_count": null,
   "metadata": {},
   "outputs": [],
   "source": [
    "Players\t        total_runs\t    balls_faced\t    strike_rate\t    boundaries\n",
    "David Warner\t6567\t        4849\t        135.43\t        899\n",
    "Prithvi Shaw\t1892\t        1321\t        143.22\t        299\n",
    "Steven Smith\t2495\t        1999\t        124.81\t        286\n",
    "Kane Williamson\t2132\t        1734\t        122.95\t        251\n",
    "Jonny Bairstow\t1589\t        1132\t        140.37\t        235\n",
    "Sarfaraz Khan\t585\t            456\t            128.29\t        77\n",
    "Piyush Chawla\t624\t            580\t            107.59\t        76\n",
    "Kyle Mayers\t    379\t            276\t            137.32\t        60\n",
    "Shardul Thakur\t307\t            228\t            134.65\t        40\n",
    "Daryl Mitchell\t351\t            274\t            128.1\t        38\n"
   ]
  },
  {
   "cell_type": "code",
   "execution_count": null,
   "metadata": {},
   "outputs": [],
   "source": [
    "# Join the unsold players with the batsman stats on the transformed name\n",
    "unsold_bowler_stats_df = unsold_players_df.join(\n",
    "    bowler_wickets_final_df, on=\"player\"\n",
    ").select(\"Players\", \"bowler\", \"wickets\",\"economy_rate\")\n",
    "\n",
    "# Show the final output\n",
    "display(unsold_bowler_stats_df.orderBy(\"wickets\", ascending=False).limit(10))\n",
    "     "
   ]
  },
  {
   "cell_type": "code",
   "execution_count": null,
   "metadata": {},
   "outputs": [],
   "source": [
    "Players\t        total_runs\tballs_faced\t    strike_rate\t    boundaries\n",
    "David Warner\t   6567\t    4849\t        135.43\t        899\n",
    "Prithvi Shaw\t   1892\t    1321\t        143.22\t        299\n",
    "Steven Smith\t   2495\t    1999\t        124.81\t        286\n",
    "Kane Williamson\t   2132\t    1734\t        122.95\t        251\n",
    "Jonny Bairstow\t   1589\t    1132\t        140.37\t        235\n",
    "Sarfaraz Khan\t   585\t    456\t            128.29\t        77\n",
    "Piyush Chawla\t   624\t    580\t            107.59\t        76\n",
    "Kyle Mayers\t        379\t    276\t            137.32\t        60\n",
    "Shardul Thakur\t    307\t    228\t            134.65\t        40\n",
    "Daryl Mitchell\t    351\t    274\t            128.1\t        38\n",
    "\n",
    "Databricks visualization. Run in Databricks to view."
   ]
  },
  {
   "cell_type": "code",
   "execution_count": null,
   "metadata": {},
   "outputs": [],
   "source": [
    "display(unsold_bowler_stats_df.filter(\"wickets > 10\").orderBy(\"economy_rate\").limit(10))\n",
    "     \n",
    "Players\t        bowler\t    wickets\t    economy_rate\n",
    "Piyush Chawla\tPP Chawla\t192\t        8.12\n",
    "Murugan Ashwin\tM Ashwin\t35\t        8.2\n",
    "Rishi Dhawan\tR Dhawan\t25\t        8.37\n",
    "Chetan Sakariya\tC Sakariya\t20\t        8.58\n",
    "Umesh Yadav\t    UT Yadav\t144\t        8.74\n",
    "Jason Behrendorff JP Behrendorff\t19\t9.21\n",
    "Naveen-ul-Haq\tNaveen-ul-Haq\t25\t    9.39\n",
    "Shardul Thakur\tSN Thakur\t94\t        9.44\n",
    "Chris Jordan\tCJ Jordan\t30\t        9.91\n",
    "Alzarri Joseph\tAS Joseph\t21\t        9.94\n",
    "\n",
    "\n",
    "Databricks visualization. Run in Databricks to view."
   ]
  },
  {
   "cell_type": "code",
   "execution_count": null,
   "metadata": {},
   "outputs": [],
   "source": []
  }
 ],
 "metadata": {
  "language_info": {
   "name": "python"
  }
 },
 "nbformat": 4,
 "nbformat_minor": 2
}
